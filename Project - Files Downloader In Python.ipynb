{
 "cells": [
  {
   "cell_type": "markdown",
   "metadata": {},
   "source": [
    "# To download any file either PDF, csv or any other using Python "
   ]
  },
  {
   "cell_type": "code",
   "execution_count": 1,
   "metadata": {},
   "outputs": [],
   "source": [
    "url = 'http://www.africau.edu/images/default/sample.pdf'"
   ]
  },
  {
   "cell_type": "code",
   "execution_count": 2,
   "metadata": {},
   "outputs": [],
   "source": [
    "import requests"
   ]
  },
  {
   "cell_type": "code",
   "execution_count": 3,
   "metadata": {},
   "outputs": [],
   "source": [
    "r = requests.get(url, stream = True)"
   ]
  },
  {
   "cell_type": "code",
   "execution_count": 4,
   "metadata": {},
   "outputs": [
    {
     "data": {
      "text/plain": [
       "b'%PDF-1.3\\r\\n%\\xe2\\xe3\\xcf\\xd3\\r\\n\\r\\n1 0 obj\\r\\n<<\\r\\n/Type /Catalog\\r\\n/Outlines 2 0 R\\r\\n/Pages 3 0 R\\r\\n>>\\r\\nendobj\\r\\n\\r\\n2 0 obj\\r\\n<<\\r\\n/Type /Outlines\\r\\n/Count 0\\r\\n>>\\r\\nendobj\\r\\n\\r\\n3 0 obj\\r\\n<<\\r\\n/Type /Pages\\r\\n/Count 2\\r\\n/Kids [ 4 0 R 6 0 R ] \\r\\n>>\\r\\nendobj\\r\\n\\r\\n4 0 obj\\r\\n<<\\r\\n/Type /Page\\r\\n/Parent 3 0 R\\r\\n/Resources <<\\r\\n/Font <<\\r\\n/F1 9 0 R \\r\\n>>\\r\\n/ProcSet 8 0 R\\r\\n>>\\r\\n/MediaBox [0 0 612.0000 792.0000]\\r\\n/Contents 5 0 R\\r\\n>>\\r\\nendobj\\r\\n\\r\\n5 0 obj\\r\\n<< /Length 1074 >>\\r\\nstream\\r\\n2 J\\r\\nBT\\r\\n0 0 0 rg\\r\\n/F1 0027 Tf\\r\\n57.3750 722.2800 Td\\r\\n( A Simple PDF File ) Tj\\r\\nET\\r\\nBT\\r\\n/F1 0010 Tf\\r\\n69.2500 688.6080 Td\\r\\n( This is a small demonstration .pdf file - ) Tj\\r\\nET\\r\\nBT\\r\\n/F1 0010 Tf\\r\\n69.2500 664.7040 Td\\r\\n( just for use in the Virtual Mechanics tutorials. More text. And more ) Tj\\r\\nET\\r\\nBT\\r\\n/F1 0010 Tf\\r\\n69.2500 652.7520 Td\\r\\n( text. And more text. And more text. And more text. ) Tj\\r\\nET\\r\\nBT\\r\\n/F1 0010 Tf\\r\\n69.2500 628.8480 Td\\r\\n( And more text. And more text. And more text. And more text. And more ) Tj\\r\\nET\\r\\nBT\\r\\n/F1 0010 Tf\\r\\n69.2500 616.8960 Td\\r\\n( text. And more text. Boring, zzzzz. And more text. And more text. And ) Tj\\r\\nET\\r\\nBT\\r\\n/F1 0010 Tf\\r\\n69.2500 604.9440 Td\\r\\n( more text. And more text. And more text. And more text. And more text. ) Tj\\r\\nET\\r\\nBT\\r\\n/F1 0010 Tf\\r\\n69.2500 592.9920 Td\\r\\n( And more text. And more text. ) Tj\\r\\nET\\r\\nBT\\r\\n/F1 0010 Tf\\r\\n69.2500 569.0880 Td\\r\\n( And more text. And more text. And more text. And more text. And more ) Tj\\r\\nET\\r\\nBT\\r\\n/F1 0010 Tf\\r\\n69.2500 557.1360 Td\\r\\n( text. And more text. And more text. Even more. Continued on page 2 ...) Tj\\r\\nET\\r\\nendstream\\r\\nendobj\\r\\n\\r\\n6 0 obj\\r\\n<<\\r\\n/Type /Page\\r\\n/Parent 3 0 R\\r\\n/Resources <<\\r\\n/Font <<\\r\\n/F1 9 0 R \\r\\n>>\\r\\n/ProcSet 8 0 R\\r\\n>>\\r\\n/MediaBox [0 0 612.0000 792.0000]\\r\\n/Contents 7 0 R\\r\\n>>\\r\\nendobj\\r\\n\\r\\n7 0 obj\\r\\n<< /Length 676 >>\\r\\nstream\\r\\n2 J\\r\\nBT\\r\\n0 0 0 rg\\r\\n/F1 0027 Tf\\r\\n57.3750 722.2800 Td\\r\\n( Simple PDF File 2 ) Tj\\r\\nET\\r\\nBT\\r\\n/F1 0010 Tf\\r\\n69.2500 688.6080 Td\\r\\n( ...continued from page 1. Yet more text. And more text. And more text. ) Tj\\r\\nET\\r\\nBT\\r\\n/F1 0010 Tf\\r\\n69.2500 676.6560 Td\\r\\n( And more text. And more text. And more text. And more text. And more ) Tj\\r\\nET\\r\\nBT\\r\\n/F1 0010 Tf\\r\\n69.2500 664.7040 Td\\r\\n( text. Oh, how boring typing this stuff. But not as boring as watching ) Tj\\r\\nET\\r\\nBT\\r\\n/F1 0010 Tf\\r\\n69.2500 652.7520 Td\\r\\n( paint dry. And more text. And more text. And more text. And more text. ) Tj\\r\\nET\\r\\nBT\\r\\n/F1 0010 Tf\\r\\n69.2500 640.8000 Td\\r\\n( Boring.  More, a little more text. The end, and just as well. ) Tj\\r\\nET\\r\\nendstream\\r\\nendobj\\r\\n\\r\\n8 0 obj\\r\\n[/PDF /Text]\\r\\nendobj\\r\\n\\r\\n9 0 obj\\r\\n<<\\r\\n/Type /Font\\r\\n/Subtype /Type1\\r\\n/Name /F1\\r\\n/BaseFont /Helvetica\\r\\n/Encoding /WinAnsiEncoding\\r\\n>>\\r\\nendobj\\r\\n\\r\\n10 0 obj\\r\\n<<\\r\\n/Creator (Rave \\\\(http://www.nevrona.com/rave\\\\))\\r\\n/Producer (Nevrona Designs)\\r\\n/CreationDate (D:20060301072826)\\r\\n>>\\r\\nendobj\\r\\n\\r\\nxref\\r\\n0 11\\r\\n0000000000 65535 f\\r\\n0000000019 00000 n\\r\\n0000000093 00000 n\\r\\n0000000147 00000 n\\r\\n0000000222 00000 n\\r\\n0000000390 00000 n\\r\\n0000001522 00000 n\\r\\n0000001690 00000 n\\r\\n0000002423 00000 n\\r\\n0000002456 00000 n\\r\\n0000002574 00000 n\\r\\n\\r\\ntrailer\\r\\n<<\\r\\n/Size 11\\r\\n/Root 1 0 R\\r\\n/Info 10 0 R\\r\\n>>\\r\\n\\r\\nstartxref\\r\\n2714\\r\\n%%EOF\\r\\n'"
      ]
     },
     "execution_count": 4,
     "metadata": {},
     "output_type": "execute_result"
    }
   ],
   "source": [
    "r.content   #PDF is a binary file , so this should be converted to text file"
   ]
  },
  {
   "cell_type": "code",
   "execution_count": 6,
   "metadata": {},
   "outputs": [
    {
     "data": {
      "text/plain": [
       "{'Date': 'Sun, 26 Jul 2020 20:12:53 GMT', 'Content-Type': 'application/pdf', 'Content-Length': '3028', 'Connection': 'keep-alive', 'Set-Cookie': '__cfduid=d3ed2c22120021d991c27543e02b2daf21595794373; expires=Tue, 25-Aug-20 20:12:53 GMT; path=/; domain=.africau.edu; HttpOnly; SameSite=Lax', 'Last-Modified': 'Fri, 24 Feb 2017 17:42:38 GMT', 'ETag': '\"58b0708e-bd4\"', 'Expires': 'Wed, 21 Jul 2021 00:03:51 GMT', 'Cache-Control': 'max-age=31536000', 'Host-Header': '8441280b0c35cbc1147f8ba998a563a7', 'X-Proxy-Cache-Info': 'DT:1', 'CF-Cache-Status': 'HIT', 'Age': '504542', 'Accept-Ranges': 'bytes', 'cf-request-id': '042e5ad3140000ddd7e30aa200000001', 'Vary': 'Accept-Encoding', 'Server': 'cloudflare', 'CF-RAY': '5b90c731b987ddd7-SIN'}"
      ]
     },
     "execution_count": 6,
     "metadata": {},
     "output_type": "execute_result"
    }
   ],
   "source": [
    "r.headers"
   ]
  },
  {
   "cell_type": "code",
   "execution_count": 11,
   "metadata": {},
   "outputs": [],
   "source": [
    "#For downloading the file we want the length of the content of the file and converting this string size into integer format\n",
    "size = int(r.headers['Content-Length'])"
   ]
  },
  {
   "cell_type": "code",
   "execution_count": 12,
   "metadata": {},
   "outputs": [
    {
     "data": {
      "text/plain": [
       "3028"
      ]
     },
     "execution_count": 12,
     "metadata": {},
     "output_type": "execute_result"
    }
   ],
   "source": [
    "size"
   ]
  },
  {
   "cell_type": "code",
   "execution_count": 13,
   "metadata": {},
   "outputs": [],
   "source": [
    "#We wil download small chunk of data at a time\n",
    "chunk_size = 256"
   ]
  },
  {
   "cell_type": "code",
   "execution_count": 14,
   "metadata": {},
   "outputs": [],
   "source": [
    "#the loop for downloading will run for n iterations. So we used ceil function to get whole number\n",
    "import math\n",
    "n = math.ceil(size/ chunk_size)"
   ]
  },
  {
   "cell_type": "code",
   "execution_count": 15,
   "metadata": {},
   "outputs": [
    {
     "data": {
      "text/plain": [
       "12"
      ]
     },
     "execution_count": 15,
     "metadata": {},
     "output_type": "execute_result"
    }
   ],
   "source": [
    "n"
   ]
  },
  {
   "cell_type": "code",
   "execution_count": 18,
   "metadata": {},
   "outputs": [
    {
     "name": "stderr",
     "output_type": "stream",
     "text": [
      "100%|██████████| 12/12 [00:06<00:00,  1.99it/s]\n"
     ]
    }
   ],
   "source": [
    "#file handling\n",
    "from tqdm import tqdm\n",
    "import time\n",
    "with open(\"File.pdf\", \"wb\") as file:  #we used wb as it is writable binary(PDF) file\n",
    "    for chunk in tqdm(r.iter_content(chunk_size = chunk_size), total = n):\n",
    "        time.sleep(0.5)  #0.5 sec delay so as to see the difference\n",
    "        file.write(chunk)"
   ]
  }
 ],
 "metadata": {
  "kernelspec": {
   "display_name": "Python 3",
   "language": "python",
   "name": "python3"
  },
  "language_info": {
   "codemirror_mode": {
    "name": "ipython",
    "version": 3
   },
   "file_extension": ".py",
   "mimetype": "text/x-python",
   "name": "python",
   "nbconvert_exporter": "python",
   "pygments_lexer": "ipython3",
   "version": "3.7.6"
  }
 },
 "nbformat": 4,
 "nbformat_minor": 4
}
